{
 "cells": [
  {
   "cell_type": "code",
   "execution_count": 1,
   "metadata": {
    "executionInfo": {
     "elapsed": 2689,
     "status": "ok",
     "timestamp": 1618547529260,
     "user": {
      "displayName": "ALOK NAGARGOJE",
      "photoUrl": "https://lh3.googleusercontent.com/a-/AOh14Gg_ykRvb12Yz5TdZuFHYZD6xqhyybWW8tq_B8dQZg=s64",
      "userId": "14744212318059808726"
     },
     "user_tz": -330
    },
    "id": "hUxerjai6Y3F"
   },
   "outputs": [],
   "source": [
    "import warnings\n",
    "warnings.filterwarnings(\"ignore\")"
   ]
  },
  {
   "cell_type": "code",
   "execution_count": 2,
   "metadata": {
    "executionInfo": {
     "elapsed": 4940,
     "status": "ok",
     "timestamp": 1618547531547,
     "user": {
      "displayName": "ALOK NAGARGOJE",
      "photoUrl": "https://lh3.googleusercontent.com/a-/AOh14Gg_ykRvb12Yz5TdZuFHYZD6xqhyybWW8tq_B8dQZg=s64",
      "userId": "14744212318059808726"
     },
     "user_tz": -330
    },
    "id": "f-j3Khsi6Y3M"
   },
   "outputs": [],
   "source": [
    "import numpy as np\n",
    "import pandas as pd\n",
    "\n",
    "# Importing necessary models for implementation of ANN\n",
    "from keras.models import Sequential\n",
    "#, Activation,Layer,Lambda\n",
    "from keras.layers import Dense \n",
    "#a=100\n",
    "from sklearn.model_selection import train_test_split"
   ]
  },
  {
   "cell_type": "code",
   "execution_count": 6,
   "metadata": {
    "colab": {
     "base_uri": "https://localhost:8080/"
    },
    "executionInfo": {
     "elapsed": 910,
     "status": "ok",
     "timestamp": 1618547628343,
     "user": {
      "displayName": "ALOK NAGARGOJE",
      "photoUrl": "https://lh3.googleusercontent.com/a-/AOh14Gg_ykRvb12Yz5TdZuFHYZD6xqhyybWW8tq_B8dQZg=s64",
      "userId": "14744212318059808726"
     },
     "user_tz": -330
    },
    "id": "XwDoiQGC6Y3N",
    "outputId": "7004d7ad-947e-4503-a19a-8d431225bffe"
   },
   "outputs": [
    {
     "data": {
      "text/plain": [
       "(767, 9)"
      ]
     },
     "execution_count": 6,
     "metadata": {},
     "output_type": "execute_result"
    }
   ],
   "source": [
    "wbcd = pd.read_csv('pima-indians-diabetes.csv')\n",
    "#wbcd.drop([\"id\"],axis=1,inplace=True) # Dropping the uncessary column \n",
    "wbcd.columns\n",
    "wbcd.shape"
   ]
  },
  {
   "cell_type": "markdown",
   "metadata": {
    "id": "HH4TsmKD6Y3N"
   },
   "source": [
    "## Check for Null values"
   ]
  },
  {
   "cell_type": "code",
   "execution_count": 7,
   "metadata": {
    "colab": {
     "base_uri": "https://localhost:8080/"
    },
    "executionInfo": {
     "elapsed": 1239,
     "status": "ok",
     "timestamp": 1618547636017,
     "user": {
      "displayName": "ALOK NAGARGOJE",
      "photoUrl": "https://lh3.googleusercontent.com/a-/AOh14Gg_ykRvb12Yz5TdZuFHYZD6xqhyybWW8tq_B8dQZg=s64",
      "userId": "14744212318059808726"
     },
     "user_tz": -330
    },
    "id": "MNzfpU8K6Y3N",
    "outputId": "7d0bb638-228b-48b6-899d-541359a56a36"
   },
   "outputs": [
    {
     "data": {
      "text/plain": [
       "0"
      ]
     },
     "execution_count": 7,
     "metadata": {},
     "output_type": "execute_result"
    }
   ],
   "source": [
    "# No missing values \n",
    "wbcd.isnull().sum().sum()"
   ]
  },
  {
   "cell_type": "code",
   "execution_count": 8,
   "metadata": {
    "colab": {
     "base_uri": "https://localhost:8080/",
     "height": 279
    },
    "executionInfo": {
     "elapsed": 941,
     "status": "ok",
     "timestamp": 1618547701177,
     "user": {
      "displayName": "ALOK NAGARGOJE",
      "photoUrl": "https://lh3.googleusercontent.com/a-/AOh14Gg_ykRvb12Yz5TdZuFHYZD6xqhyybWW8tq_B8dQZg=s64",
      "userId": "14744212318059808726"
     },
     "user_tz": -330
    },
    "id": "6pgbqqQq6Y3O",
    "outputId": "238a6e78-9770-4dc9-92ca-be032234a50b"
   },
   "outputs": [
    {
     "ename": "AttributeError",
     "evalue": "'DataFrame' object has no attribute 'Outcome'",
     "output_type": "error",
     "traceback": [
      "\u001b[1;31m---------------------------------------------------------------------------\u001b[0m",
      "\u001b[1;31mAttributeError\u001b[0m                            Traceback (most recent call last)",
      "\u001b[1;32m<ipython-input-8-89174f7bda72>\u001b[0m in \u001b[0;36m<module>\u001b[1;34m\u001b[0m\n\u001b[0;32m      1\u001b[0m \u001b[1;31m#  Malignant as 0 and Beningn as 1\u001b[0m\u001b[1;33m\u001b[0m\u001b[1;33m\u001b[0m\u001b[1;33m\u001b[0m\u001b[0m\n\u001b[1;32m----> 2\u001b[1;33m \u001b[0mwbcd\u001b[0m\u001b[1;33m.\u001b[0m\u001b[0mloc\u001b[0m\u001b[1;33m[\u001b[0m\u001b[0mwbcd\u001b[0m\u001b[1;33m.\u001b[0m\u001b[0mOutcome\u001b[0m\u001b[1;33m==\u001b[0m\u001b[1;34m\"B\"\u001b[0m\u001b[1;33m,\u001b[0m\u001b[1;34m\"Outcome\"\u001b[0m\u001b[1;33m]\u001b[0m \u001b[1;33m=\u001b[0m \u001b[1;36m1\u001b[0m\u001b[1;33m\u001b[0m\u001b[1;33m\u001b[0m\u001b[0m\n\u001b[0m\u001b[0;32m      3\u001b[0m \u001b[0mwbcd\u001b[0m\u001b[1;33m.\u001b[0m\u001b[0mloc\u001b[0m\u001b[1;33m[\u001b[0m\u001b[0mwbcd\u001b[0m\u001b[1;33m.\u001b[0m\u001b[0mOutcome\u001b[0m\u001b[1;33m==\u001b[0m\u001b[1;34m\"M\"\u001b[0m\u001b[1;33m,\u001b[0m\u001b[1;34m\"Outcome\"\u001b[0m\u001b[1;33m]\u001b[0m \u001b[1;33m=\u001b[0m \u001b[1;36m0\u001b[0m\u001b[1;33m\u001b[0m\u001b[1;33m\u001b[0m\u001b[0m\n\u001b[0;32m      4\u001b[0m \u001b[0mwbcd\u001b[0m\u001b[1;33m.\u001b[0m\u001b[0mOutcome\u001b[0m\u001b[1;33m.\u001b[0m\u001b[0mvalue_counts\u001b[0m\u001b[1;33m(\u001b[0m\u001b[1;33m)\u001b[0m\u001b[1;33m.\u001b[0m\u001b[0mplot\u001b[0m\u001b[1;33m(\u001b[0m\u001b[0mkind\u001b[0m\u001b[1;33m=\u001b[0m\u001b[1;34m\"bar\"\u001b[0m\u001b[1;33m)\u001b[0m\u001b[1;33m\u001b[0m\u001b[1;33m\u001b[0m\u001b[0m\n",
      "\u001b[1;32m~\\anaconda3\\lib\\site-packages\\pandas\\core\\generic.py\u001b[0m in \u001b[0;36m__getattr__\u001b[1;34m(self, name)\u001b[0m\n\u001b[0;32m   5137\u001b[0m             \u001b[1;32mif\u001b[0m \u001b[0mself\u001b[0m\u001b[1;33m.\u001b[0m\u001b[0m_info_axis\u001b[0m\u001b[1;33m.\u001b[0m\u001b[0m_can_hold_identifiers_and_holds_name\u001b[0m\u001b[1;33m(\u001b[0m\u001b[0mname\u001b[0m\u001b[1;33m)\u001b[0m\u001b[1;33m:\u001b[0m\u001b[1;33m\u001b[0m\u001b[1;33m\u001b[0m\u001b[0m\n\u001b[0;32m   5138\u001b[0m                 \u001b[1;32mreturn\u001b[0m \u001b[0mself\u001b[0m\u001b[1;33m[\u001b[0m\u001b[0mname\u001b[0m\u001b[1;33m]\u001b[0m\u001b[1;33m\u001b[0m\u001b[1;33m\u001b[0m\u001b[0m\n\u001b[1;32m-> 5139\u001b[1;33m             \u001b[1;32mreturn\u001b[0m \u001b[0mobject\u001b[0m\u001b[1;33m.\u001b[0m\u001b[0m__getattribute__\u001b[0m\u001b[1;33m(\u001b[0m\u001b[0mself\u001b[0m\u001b[1;33m,\u001b[0m \u001b[0mname\u001b[0m\u001b[1;33m)\u001b[0m\u001b[1;33m\u001b[0m\u001b[1;33m\u001b[0m\u001b[0m\n\u001b[0m\u001b[0;32m   5140\u001b[0m \u001b[1;33m\u001b[0m\u001b[0m\n\u001b[0;32m   5141\u001b[0m     \u001b[1;32mdef\u001b[0m \u001b[0m__setattr__\u001b[0m\u001b[1;33m(\u001b[0m\u001b[0mself\u001b[0m\u001b[1;33m,\u001b[0m \u001b[0mname\u001b[0m\u001b[1;33m:\u001b[0m \u001b[0mstr\u001b[0m\u001b[1;33m,\u001b[0m \u001b[0mvalue\u001b[0m\u001b[1;33m)\u001b[0m \u001b[1;33m->\u001b[0m \u001b[1;32mNone\u001b[0m\u001b[1;33m:\u001b[0m\u001b[1;33m\u001b[0m\u001b[1;33m\u001b[0m\u001b[0m\n",
      "\u001b[1;31mAttributeError\u001b[0m: 'DataFrame' object has no attribute 'Outcome'"
     ]
    }
   ],
   "source": [
    "#  Malignant as 0 and Beningn as 1\n",
    "wbcd.loc[wbcd.Outcome==\"B\",\"Outcome\"] = 1\n",
    "wbcd.loc[wbcd.Outcome==\"M\",\"Outcome\"] = 0\n",
    "wbcd.Outcome.value_counts().plot(kind=\"bar\")"
   ]
  },
  {
   "cell_type": "code",
   "execution_count": null,
   "metadata": {
    "colab": {
     "base_uri": "https://localhost:8080/"
    },
    "executionInfo": {
     "elapsed": 912,
     "status": "ok",
     "timestamp": 1618547777820,
     "user": {
      "displayName": "ALOK NAGARGOJE",
      "photoUrl": "https://lh3.googleusercontent.com/a-/AOh14Gg_ykRvb12Yz5TdZuFHYZD6xqhyybWW8tq_B8dQZg=s64",
      "userId": "14744212318059808726"
     },
     "user_tz": -330
    },
    "id": "Ba6QQ1_e6Y3O",
    "outputId": "e3003c7e-3073-4163-faa4-d54cbad08c57"
   },
   "outputs": [],
   "source": [
    "train,test = train_test_split(wbcd,test_size = 0.3,random_state=42)\n",
    "\n",
    "trainX = train.drop([\"Outcome\"],axis=1)\n",
    "trainY = train[\"Outcome\"]\n",
    "testX = test.drop([\"Outcome\"],axis=1)\n",
    "testY = test[\"Outcome\"]\n",
    "test.Outcome.value_counts()"
   ]
  },
  {
   "cell_type": "code",
   "execution_count": null,
   "metadata": {
    "executionInfo": {
     "elapsed": 893,
     "status": "ok",
     "timestamp": 1618547785139,
     "user": {
      "displayName": "ALOK NAGARGOJE",
      "photoUrl": "https://lh3.googleusercontent.com/a-/AOh14Gg_ykRvb12Yz5TdZuFHYZD6xqhyybWW8tq_B8dQZg=s64",
      "userId": "14744212318059808726"
     },
     "user_tz": -330
    },
    "id": "zwClc_rs6Y3P"
   },
   "outputs": [],
   "source": [
    "def prep_model(hidden_dim):\n",
    "    model = Sequential() # initialize \n",
    "    for i in range(1,len(hidden_dim)-1):\n",
    "        if (i==1):\n",
    "            model.add(Dense(hidden_dim[i],input_dim=hidden_dim[0],activation=\"relu\"))\n",
    "        else:\n",
    "            model.add(Dense(hidden_dim[i],activation=\"relu\"))\n",
    "    # To define the dimensions for the output layer\n",
    "    # activation - sigmoid \n",
    "    model.add(Dense(hidden_dim[-1],kernel_initializer=\"normal\",activation=\"sigmoid\"))\n",
    "    # loss function -> loss parameter\n",
    "    # algorithm to update the weights - optimizer parameter\n",
    "    # accuracy - metric to display for 1 epoch\n",
    "    model.compile(loss=\"binary_crossentropy\",optimizer = \"rmsprop\",metrics = [\"accuracy\"])\n",
    "    return model  "
   ]
  },
  {
   "cell_type": "code",
   "execution_count": null,
   "metadata": {
    "executionInfo": {
     "elapsed": 885,
     "status": "ok",
     "timestamp": 1618547789700,
     "user": {
      "displayName": "ALOK NAGARGOJE",
      "photoUrl": "https://lh3.googleusercontent.com/a-/AOh14Gg_ykRvb12Yz5TdZuFHYZD6xqhyybWW8tq_B8dQZg=s64",
      "userId": "14744212318059808726"
     },
     "user_tz": -330
    },
    "id": "upq7Qubo6Y3P"
   },
   "outputs": [],
   "source": [
    "model = Sequential() # initialize \n",
    "#Input Layer\n",
    "model.add(Dense(12,input_dim=30,activation=\"relu\"))\n",
    "model.add(Dense(12,activation=\"relu\"))\n",
    "model.add(Dense(12,activation=\"relu\"))\n",
    "# To define the dimensions for the output layer\n",
    "# activation - sigmoid \n",
    "model.add(Dense(1,kernel_initializer=\"normal\",activation=\"sigmoid\"))\n",
    "# loss function -> loss parameter\n",
    "# algorithm to update the weights - optimizer parameter\n",
    "# accuracy - metric to display for 1 epoch\n",
    "model.compile(loss=\"binary_crossentropy\",optimizer = \"rmsprop\",metrics = [\"accuracy\"])"
   ]
  },
  {
   "cell_type": "markdown",
   "metadata": {
    "id": "_6FKr3Sh6Y3P"
   },
   "source": [
    "### First Model\n",
    "number of input features - 30\n",
    "\n",
    "number of hidden layers - 3  layers\n",
    "\n",
    "number of hidden neurons in each hidden layer - 12\n",
    "\n",
    "Number of dimensions for output layer  - 1 \n"
   ]
  },
  {
   "cell_type": "code",
   "execution_count": null,
   "metadata": {
    "executionInfo": {
     "elapsed": 944,
     "status": "ok",
     "timestamp": 1618548525183,
     "user": {
      "displayName": "ALOK NAGARGOJE",
      "photoUrl": "https://lh3.googleusercontent.com/a-/AOh14Gg_ykRvb12Yz5TdZuFHYZD6xqhyybWW8tq_B8dQZg=s64",
      "userId": "14744212318059808726"
     },
     "user_tz": -330
    },
    "id": "wEOlRByM6Y3Q"
   },
   "outputs": [],
   "source": [
    "first_model = Sequential() # initialize \n",
    "#Input Layer\n",
    "first_model.add(Dense(12,input_dim=8,activation=\"relu\"))\n",
    "first_model.add(Dense(12,activation=\"relu\"))\n",
    "first_model.add(Dense(12,activation=\"relu\"))\n",
    "# To define the dimensions for the output layer\n",
    "# activation - sigmoid \n",
    "first_model.add(Dense(1,kernel_initializer=\"normal\",activation=\"sigmoid\"))\n",
    "# loss function -> loss parameter\n",
    "# algorithm to update the weights - optimizer parameter\n",
    "# accuracy - metric to display for 1 epoch\n",
    "first_model.compile(loss=\"binary_crossentropy\",optimizer = \"rmsprop\",metrics = [\"accuracy\"])"
   ]
  },
  {
   "cell_type": "code",
   "execution_count": null,
   "metadata": {
    "colab": {
     "base_uri": "https://localhost:8080/"
    },
    "executionInfo": {
     "elapsed": 2298,
     "status": "ok",
     "timestamp": 1618548529235,
     "user": {
      "displayName": "ALOK NAGARGOJE",
      "photoUrl": "https://lh3.googleusercontent.com/a-/AOh14Gg_ykRvb12Yz5TdZuFHYZD6xqhyybWW8tq_B8dQZg=s64",
      "userId": "14744212318059808726"
     },
     "user_tz": -330
    },
    "id": "1YENmrki6Y3Q",
    "outputId": "8083b57e-b20e-44c1-ef3a-2ace7d82f072"
   },
   "outputs": [],
   "source": [
    "# Fitting ANN model with epochs = 100 \n",
    "first_model.fit(np.array(trainX),np.array(trainY),epochs=10)"
   ]
  },
  {
   "cell_type": "markdown",
   "metadata": {
    "id": "1A7Hrwnw6Y3R"
   },
   "source": [
    "### Predicting for Train Data"
   ]
  },
  {
   "cell_type": "code",
   "execution_count": null,
   "metadata": {
    "colab": {
     "base_uri": "https://localhost:8080/",
     "height": 807
    },
    "executionInfo": {
     "elapsed": 968,
     "status": "error",
     "timestamp": 1618548903755,
     "user": {
      "displayName": "ALOK NAGARGOJE",
      "photoUrl": "https://lh3.googleusercontent.com/a-/AOh14Gg_ykRvb12Yz5TdZuFHYZD6xqhyybWW8tq_B8dQZg=s64",
      "userId": "14744212318059808726"
     },
     "user_tz": -330
    },
    "id": "1CqCvkUa6Y3R",
    "outputId": "e9f0d8bd-1234-441c-8ce3-5e183bf60c75"
   },
   "outputs": [],
   "source": [
    "# predicting the probability values for each record\n",
    "pred_train = first_model.predict(np.array(trainX))\n",
    "\n",
    "# pd.Series - > convert list format Pandas Series data structure\n",
    "pred_train = pd.Series([i[0] for i in pred_train])\n",
    "\n",
    "disease_class = [\"B\",\"M\"]\n",
    "# converting series because add them as columns into data frame\n",
    "pred_train_class = pd.Series([\"M\"]*398)\n",
    "pred_train_class[[i>0.5 for i in pred_train]] = \"B\"\n",
    "#pred_train_class\n",
    "train.columns"
   ]
  },
  {
   "cell_type": "code",
   "execution_count": null,
   "metadata": {
    "id": "B8iQHQ1J6Y3R",
    "outputId": "bc3cdc5c-68d4-4bb9-d2c6-9730b21ebe5c"
   },
   "outputs": [],
   "source": [
    "from sklearn.metrics import confusion_matrix\n",
    "train[\"original_class\"] = \"M\"\n",
    "train.loc[train.diagnosis==1,\"original_class\"] = \"B\"\n",
    "train.original_class.value_counts()\n",
    "\n",
    "# Two way table format \n",
    "confusion_matrix(pred_train_class,train.original_class)\n",
    "#train.columns"
   ]
  },
  {
   "cell_type": "code",
   "execution_count": null,
   "metadata": {
    "id": "LFKRP2z_6Y3R",
    "outputId": "f2e8b89a-81d1-4352-80a2-5ed6dc6058c6"
   },
   "outputs": [],
   "source": [
    "# Calculating the accuracy using mean function from numpy \n",
    "# we need to reset the index values of train data as the index values are random numbers\n",
    "np.mean(pred_train_class==pd.Series(train.original_class).reset_index(drop=True))\n",
    "\n",
    "# 2 way table \n",
    "pd.crosstab(pred_train_class,pd.Series(train.original_class).reset_index(drop=True))"
   ]
  },
  {
   "cell_type": "markdown",
   "metadata": {
    "id": "OpXPqARz6Y3S"
   },
   "source": [
    "### Predicting for Test Data"
   ]
  },
  {
   "cell_type": "code",
   "execution_count": null,
   "metadata": {
    "id": "X5kAcWSv6Y3S",
    "outputId": "3e34a08c-511f-4531-8e18-5da98f2d6abc"
   },
   "outputs": [],
   "source": [
    "# Predicting for test data \n",
    "pred_test = first_model.predict(np.array(testX))\n",
    "\n",
    "pred_test = pd.Series([i[0] for i in pred_test])\n",
    "pred_test_class = pd.Series([\"M\"]*171)\n",
    "\n",
    "pred_test_class[[i>0.5 for i in pred_test]] = \"B\"\n",
    "test[\"original_class\"] = \"M\"\n",
    "test.loc[test.diagnosis==1,\"original_class\"] = \"B\"\n",
    "test.original_class.value_counts()\n",
    "temp = pd.Series(test.original_class).reset_index(drop=True)\n",
    "np.mean(pred_test_class==pd.Series(test.original_class).reset_index(drop=True)) # 97.66\n",
    "len(pred_test_class==pd.Series(test.original_class).reset_index(drop=True))\n",
    "confusion_matrix(pred_test_class,temp)\n",
    "#pd.crosstab(pred_test_class,test.original_class)\n",
    "\n",
    "# to show the count of each category with respect to other category \n",
    "pd.crosstab(test.original_class,pred_test_class).plot(kind=\"bar\")"
   ]
  },
  {
   "cell_type": "markdown",
   "metadata": {
    "id": "KPOBfX9s6Y3T"
   },
   "source": [
    "## Predicting Continuous Values"
   ]
  },
  {
   "cell_type": "code",
   "execution_count": null,
   "metadata": {
    "id": "Gx4lcahN6Y3T",
    "outputId": "ae3dd6be-cf1d-4696-c2ea-447ebf11d848"
   },
   "outputs": [],
   "source": [
    "# Reading data \n",
    "Concrete = pd.read_csv(\"concrete.csv\")\n",
    "Concrete.head()\n",
    "Concrete.shape"
   ]
  },
  {
   "cell_type": "code",
   "execution_count": null,
   "metadata": {
    "id": "KAUyeHih6Y3T",
    "outputId": "d7f6420c-7839-4c85-f782-69546dfac658"
   },
   "outputs": [],
   "source": [
    "column_names = list(Concrete.columns)\n",
    "predictors = column_names[0:8]\n",
    "target = column_names[8]\n",
    "predictors"
   ]
  },
  {
   "cell_type": "code",
   "execution_count": null,
   "metadata": {
    "id": "LTKAFNUz6Y3T"
   },
   "outputs": [],
   "source": [
    "def prep_model(hidden_dim):\n",
    "    model = Sequential()\n",
    "    for i in range(1,len(hidden_dim)-1):\n",
    "        if (i==1):\n",
    "            model.add(Dense(hidden_dim[i],input_dim=hidden_dim[0],kernel_initializer=\"normal\",activation=\"relu\"))\n",
    "        else:\n",
    "            model.add(Dense(hidden_dim[i],activation=\"relu\"))\n",
    "    # for the output layer we are not adding any activation function as \n",
    "    # the target variable is continuous variable \n",
    "    model.add(Dense(hidden_dim[-1]))\n",
    "    # loss ---> loss function is means squared error to compare the output and estimated output\n",
    "    # optimizer ---> adam\n",
    "    # metrics ----> mean squared error - error for each epoch on entire data set \n",
    "    model.compile(loss=\"mean_squared_error\",optimizer=\"adam\",metrics = [\"mse\"])\n",
    "    return (model)"
   ]
  },
  {
   "cell_type": "code",
   "execution_count": null,
   "metadata": {
    "id": "oRFeKWNm6Y3U",
    "outputId": "c58ea1f9-36d0-479e-a76c-b2d206bfff31"
   },
   "outputs": [],
   "source": [
    "first_model = prep_model([8,50,1])\n",
    "first_model.fit(np.array(Concrete[predictors]),np.array(Concrete[target]),epochs=20)"
   ]
  },
  {
   "cell_type": "code",
   "execution_count": null,
   "metadata": {
    "id": "GFQzVRvB6Y3U"
   },
   "outputs": [],
   "source": [
    "first_model = prep_model([8,50,1])"
   ]
  },
  {
   "cell_type": "code",
   "execution_count": null,
   "metadata": {
    "id": "82gF3vOV6Y3U",
    "outputId": "6859bc59-08d9-4835-8462-761e281a15f3"
   },
   "outputs": [],
   "source": [
    "pred_train = first_model.predict(np.array(train[predictors]))\n",
    "pred_train = pd.Series([i[0] for i in pred_train])\n",
    "rmse_value = np.sqrt(np.mean((pred_train-train[target])**2))\n",
    "rmse_value"
   ]
  },
  {
   "cell_type": "code",
   "execution_count": null,
   "metadata": {
    "id": "cvVaQJvd6Y3V"
   },
   "outputs": [],
   "source": []
  }
 ],
 "metadata": {
  "colab": {
   "name": "MyNN.ipynb",
   "provenance": [],
   "toc_visible": true
  },
  "kernelspec": {
   "display_name": "Python 3",
   "language": "python",
   "name": "python3"
  },
  "language_info": {
   "codemirror_mode": {
    "name": "ipython",
    "version": 3
   },
   "file_extension": ".py",
   "mimetype": "text/x-python",
   "name": "python",
   "nbconvert_exporter": "python",
   "pygments_lexer": "ipython3",
   "version": "3.8.5"
  }
 },
 "nbformat": 4,
 "nbformat_minor": 1
}
