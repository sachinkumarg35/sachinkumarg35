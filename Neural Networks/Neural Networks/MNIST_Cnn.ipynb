{
 "cells": [
  {
   "cell_type": "markdown",
   "metadata": {},
   "source": [
    "# Deep Convolutional Neural Network in Keras"
   ]
  },
  {
   "cell_type": "code",
   "execution_count": 1,
   "metadata": {},
   "outputs": [],
   "source": [
    "import sys\n",
    "sys.path.append('/Library/Frameworks/Python.framework/Versions/3.6/lib/python3.6/site-packages')"
   ]
  },
  {
   "cell_type": "code",
   "execution_count": 2,
   "metadata": {},
   "outputs": [],
   "source": [
    "import warnings\n",
    "warnings.filterwarnings('ignore')"
   ]
  },
  {
   "cell_type": "markdown",
   "metadata": {},
   "source": [
    "#### Set seed for reproducibility"
   ]
  },
  {
   "cell_type": "code",
   "execution_count": 3,
   "metadata": {},
   "outputs": [],
   "source": [
    "import numpy as np\n",
    "np.random.seed(42)"
   ]
  },
  {
   "cell_type": "markdown",
   "metadata": {},
   "source": [
    "#### Load dependencies"
   ]
  },
  {
   "cell_type": "code",
   "execution_count": 4,
   "metadata": {},
   "outputs": [],
   "source": [
    "import keras\n",
    "from keras.datasets import mnist\n",
    "from keras.models import Sequential\n",
    "from keras.layers import Dense, Dropout\n",
    "from keras.layers import Flatten, Conv2D, MaxPooling2D # new!"
   ]
  },
  {
   "cell_type": "markdown",
   "metadata": {},
   "source": [
    "#### Load data"
   ]
  },
  {
   "cell_type": "code",
   "execution_count": 5,
   "metadata": {},
   "outputs": [],
   "source": [
    "(X_train, y_train), (X_test, y_test) = mnist.load_data()"
   ]
  },
  {
   "cell_type": "markdown",
   "metadata": {},
   "source": [
    "#### Preprocess data"
   ]
  },
  {
   "cell_type": "code",
   "execution_count": 6,
   "metadata": {},
   "outputs": [],
   "source": [
    "X_train = X_train.reshape(60000, 28, 28, 1).astype('float32')\n",
    "X_test = X_test.reshape(10000, 28, 28, 1).astype('float32')"
   ]
  },
  {
   "cell_type": "code",
   "execution_count": 7,
   "metadata": {},
   "outputs": [],
   "source": [
    "X_train /= 255\n",
    "X_test /= 255"
   ]
  },
  {
   "cell_type": "code",
   "execution_count": 8,
   "metadata": {},
   "outputs": [],
   "source": [
    "n_classes = 10\n",
    "y_train = keras.utils.to_categorical(y_train, n_classes)\n",
    "y_test = keras.utils.to_categorical(y_test, n_classes)"
   ]
  },
  {
   "cell_type": "markdown",
   "metadata": {},
   "source": [
    "#### Design Conv net "
   ]
  },
  {
   "cell_type": "code",
   "execution_count": 9,
   "metadata": {},
   "outputs": [],
   "source": [
    "model = Sequential()\n",
    "model.add(Conv2D(32, kernel_size=(3, 3), activation='relu', input_shape=(28, 28, 1)))\n",
    "model.add(Dropout(0.25))\n",
    "model.add(Conv2D(64, kernel_size=(3, 3), activation='relu'))\n",
    "model.add(MaxPooling2D(pool_size=(2, 2)))\n",
    "model.add(Flatten())\n",
    "model.add(Dense(128, activation='relu'))\n",
    "model.add(Dense(n_classes, activation='softmax'))"
   ]
  },
  {
   "cell_type": "code",
   "execution_count": 10,
   "metadata": {},
   "outputs": [
    {
     "name": "stdout",
     "output_type": "stream",
     "text": [
      "Model: \"sequential\"\n",
      "_________________________________________________________________\n",
      "Layer (type)                 Output Shape              Param #   \n",
      "=================================================================\n",
      "conv2d (Conv2D)              (None, 26, 26, 32)        320       \n",
      "_________________________________________________________________\n",
      "dropout (Dropout)            (None, 26, 26, 32)        0         \n",
      "_________________________________________________________________\n",
      "conv2d_1 (Conv2D)            (None, 24, 24, 64)        18496     \n",
      "_________________________________________________________________\n",
      "max_pooling2d (MaxPooling2D) (None, 12, 12, 64)        0         \n",
      "_________________________________________________________________\n",
      "flatten (Flatten)            (None, 9216)              0         \n",
      "_________________________________________________________________\n",
      "dense (Dense)                (None, 128)               1179776   \n",
      "_________________________________________________________________\n",
      "dense_1 (Dense)              (None, 10)                1290      \n",
      "=================================================================\n",
      "Total params: 1,199,882\n",
      "Trainable params: 1,199,882\n",
      "Non-trainable params: 0\n",
      "_________________________________________________________________\n"
     ]
    }
   ],
   "source": [
    "model.summary()"
   ]
  },
  {
   "cell_type": "markdown",
   "metadata": {},
   "source": [
    "#### Configure model"
   ]
  },
  {
   "cell_type": "code",
   "execution_count": 11,
   "metadata": {},
   "outputs": [],
   "source": [
    "model.compile(loss='categorical_crossentropy', optimizer='adam', metrics=['accuracy'])"
   ]
  },
  {
   "cell_type": "markdown",
   "metadata": {},
   "source": [
    "#### Train!"
   ]
  },
  {
   "cell_type": "code",
   "execution_count": 12,
   "metadata": {},
   "outputs": [
    {
     "name": "stdout",
     "output_type": "stream",
     "text": [
      "Epoch 1/20\n",
      "469/469 [==============================] - 139s 294ms/step - loss: 0.3833 - accuracy: 0.8804 - val_loss: 0.0581 - val_accuracy: 0.9821\n",
      "Epoch 2/20\n",
      "469/469 [==============================] - 146s 312ms/step - loss: 0.0530 - accuracy: 0.9837 - val_loss: 0.0445 - val_accuracy: 0.9848\n",
      "Epoch 3/20\n",
      "469/469 [==============================] - 122s 260ms/step - loss: 0.0305 - accuracy: 0.9908 - val_loss: 0.0334 - val_accuracy: 0.9885\n",
      "Epoch 4/20\n",
      "469/469 [==============================] - 127s 270ms/step - loss: 0.0227 - accuracy: 0.9928 - val_loss: 0.0317 - val_accuracy: 0.9899\n",
      "Epoch 5/20\n",
      "469/469 [==============================] - 166s 353ms/step - loss: 0.0145 - accuracy: 0.9954 - val_loss: 0.0340 - val_accuracy: 0.9892\n",
      "Epoch 6/20\n",
      "469/469 [==============================] - 162s 344ms/step - loss: 0.0108 - accuracy: 0.9965 - val_loss: 0.0326 - val_accuracy: 0.9898\n",
      "Epoch 7/20\n",
      "469/469 [==============================] - 152s 325ms/step - loss: 0.0076 - accuracy: 0.9977 - val_loss: 0.0374 - val_accuracy: 0.9887\n",
      "Epoch 8/20\n",
      "469/469 [==============================] - 131s 279ms/step - loss: 0.0066 - accuracy: 0.9980 - val_loss: 0.0395 - val_accuracy: 0.9880\n",
      "Epoch 9/20\n",
      "469/469 [==============================] - 145s 310ms/step - loss: 0.0069 - accuracy: 0.9976 - val_loss: 0.0331 - val_accuracy: 0.9903\n",
      "Epoch 10/20\n",
      "469/469 [==============================] - 178s 380ms/step - loss: 0.0060 - accuracy: 0.9977 - val_loss: 0.0332 - val_accuracy: 0.9911\n",
      "Epoch 11/20\n",
      "469/469 [==============================] - 152s 324ms/step - loss: 0.0048 - accuracy: 0.9985 - val_loss: 0.0403 - val_accuracy: 0.9912\n",
      "Epoch 12/20\n",
      "469/469 [==============================] - 148s 317ms/step - loss: 0.0041 - accuracy: 0.9986 - val_loss: 0.0417 - val_accuracy: 0.9891\n",
      "Epoch 13/20\n",
      "469/469 [==============================] - 152s 323ms/step - loss: 0.0043 - accuracy: 0.9984 - val_loss: 0.0492 - val_accuracy: 0.9892\n",
      "Epoch 14/20\n",
      "469/469 [==============================] - 158s 337ms/step - loss: 0.0046 - accuracy: 0.9986 - val_loss: 0.0443 - val_accuracy: 0.9899\n",
      "Epoch 15/20\n",
      "469/469 [==============================] - 155s 330ms/step - loss: 0.0019 - accuracy: 0.9993 - val_loss: 0.0449 - val_accuracy: 0.9909\n",
      "Epoch 16/20\n",
      "469/469 [==============================] - 149s 318ms/step - loss: 0.0052 - accuracy: 0.9983 - val_loss: 0.0494 - val_accuracy: 0.9892\n",
      "Epoch 17/20\n",
      "469/469 [==============================] - 120s 255ms/step - loss: 0.0044 - accuracy: 0.9983 - val_loss: 0.0379 - val_accuracy: 0.9916\n",
      "Epoch 18/20\n",
      "469/469 [==============================] - 134s 287ms/step - loss: 0.0015 - accuracy: 0.9995 - val_loss: 0.0550 - val_accuracy: 0.9887\n",
      "Epoch 19/20\n",
      "469/469 [==============================] - 161s 342ms/step - loss: 0.0034 - accuracy: 0.9990 - val_loss: 0.0535 - val_accuracy: 0.9887\n",
      "Epoch 20/20\n",
      "469/469 [==============================] - 165s 352ms/step - loss: 0.0022 - accuracy: 0.9994 - val_loss: 0.0542 - val_accuracy: 0.9897\n"
     ]
    },
    {
     "data": {
      "text/plain": [
       "<tensorflow.python.keras.callbacks.History at 0x7fcad8626190>"
      ]
     },
     "execution_count": 12,
     "metadata": {},
     "output_type": "execute_result"
    }
   ],
   "source": [
    "model.fit(X_train, y_train, batch_size=128, epochs=20, verbose=1, validation_data=(X_test, y_test))"
   ]
  },
  {
   "cell_type": "code",
   "execution_count": null,
   "metadata": {
    "jupyter": {
     "outputs_hidden": true
    }
   },
   "outputs": [],
   "source": []
  }
 ],
 "metadata": {
  "kernelspec": {
   "display_name": "Python 3",
   "language": "python",
   "name": "python3"
  },
  "language_info": {
   "codemirror_mode": {
    "name": "ipython",
    "version": 3
   },
   "file_extension": ".py",
   "mimetype": "text/x-python",
   "name": "python",
   "nbconvert_exporter": "python",
   "pygments_lexer": "ipython3",
   "version": "3.8.5"
  }
 },
 "nbformat": 4,
 "nbformat_minor": 4
}
